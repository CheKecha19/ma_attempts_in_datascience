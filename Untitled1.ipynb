{
 "cells": [
  {
   "cell_type": "markdown",
   "metadata": {},
   "source": [
    "# Задачи по pandas"
   ]
  },
  {
   "cell_type": "markdown",
   "metadata": {},
   "source": [
    "Задача 1\n",
    "Как найти евклидово расстояние между двумя Series (точками) a и b, не используя встроенную формулу?"
   ]
  },
  {
   "cell_type": "code",
   "execution_count": 1,
   "metadata": {},
   "outputs": [],
   "source": [
    "import pandas as pd\n",
    "import numpy as np"
   ]
  },
  {
   "cell_type": "code",
   "execution_count": 2,
   "metadata": {},
   "outputs": [],
   "source": [
    "a = pd.Series([2, 4, 6, 8])\n",
    "b = pd.Series([1, 3, 5, 7])"
   ]
  },
  {
   "cell_type": "code",
   "execution_count": 3,
   "metadata": {},
   "outputs": [
    {
     "data": {
      "text/plain": [
       "2.0"
      ]
     },
     "execution_count": 3,
     "metadata": {},
     "output_type": "execute_result"
    }
   ],
   "source": [
    "# Решение \n",
    "sum((a - b)**2)**.5\n",
    "\n",
    "# Решение (с использованием функции из NumPy)\n",
    "np.linalg.norm(a-b)"
   ]
  },
  {
   "cell_type": "markdown",
   "metadata": {},
   "source": [
    "Задача 2\n",
    "Как найти максимально возможное абсолютное значение корреляции каждого столбца с другими столбцами в df?"
   ]
  },
  {
   "cell_type": "code",
   "execution_count": 4,
   "metadata": {},
   "outputs": [],
   "source": [
    "df = pd.DataFrame(np.random.randint(1, 100, 16).reshape(4, 4), columns=list('efgh'), index=list('abcd'))"
   ]
  },
  {
   "cell_type": "code",
   "execution_count": 5,
   "metadata": {},
   "outputs": [
    {
     "name": "stdout",
     "output_type": "stream",
     "text": [
      "Максимальное значение корреляции для каждого столбца:  [0.92 0.81 0.83 0.92]\n"
     ]
    }
   ],
   "source": [
    "# Решение\n",
    "abs_corr = np.abs(df.corr())\n",
    "max_corr = abs_corr.apply(lambda x: sorted(x)[-2])\n",
    "print('Максимальное значение корреляции для каждого столбца: ', np.round(max_corr.tolist(), 2))"
   ]
  },
  {
   "cell_type": "markdown",
   "metadata": {},
   "source": [
    "Задача 3\n",
    "Как нормализовать все столбцы в DataFrame?\n",
    "\n",
    "Нормализуйте все столбцы df путём вычитания среднего значения столбца и деления на стандартное отклонение.\n",
    "Сделайте так, чтобы все значения в df находились в диапазоне от 0 до 1."
   ]
  },
  {
   "cell_type": "code",
   "execution_count": 6,
   "metadata": {},
   "outputs": [],
   "source": [
    "# Ввод\n",
    "df = pd.DataFrame(np.random.randint(1, 100, 16).reshape(4, 4))"
   ]
  },
  {
   "cell_type": "code",
   "execution_count": 7,
   "metadata": {},
   "outputs": [
    {
     "name": "stdout",
     "output_type": "stream",
     "text": [
      "Первая часть\n",
      "       0     1     2     3\n",
      "0 -0.66  0.93  0.45  1.39\n",
      "1 -0.38 -0.90  0.57 -0.94\n",
      "2  1.49  0.80  0.49 -0.42\n",
      "3 -0.45 -0.83 -1.50 -0.04\n",
      "Вторая часть\n",
      "       0     1     2     3\n",
      "0  1.00  0.00  0.06  0.00\n",
      "1  0.87  1.00  0.00  1.00\n",
      "2  0.00  0.07  0.04  0.78\n",
      "3  0.90  0.97  1.00  0.61\n"
     ]
    }
   ],
   "source": [
    "# Первая часть решения\n",
    "part1 = df.apply(lambda x: ((x - x.mean()) / x.std()).round(2))\n",
    "print('Первая часть\\n', part1)\n",
    "\n",
    "# Вторая часть решения\n",
    "part2 = df.apply(lambda x: ((x.max() - x) / (x.max() - x.min())).round(2))\n",
    "print('Вторая часть\\n', part2)"
   ]
  },
  {
   "cell_type": "markdown",
   "metadata": {},
   "source": [
    "Задача 4\n",
    "Как объединить два DataFrame по двум столбцам так, чтобы остались только общие строки?\n",
    "\n",
    "Объедините df1 и df2 по столбцам fruit-frukt и weight-ves."
   ]
  },
  {
   "cell_type": "code",
   "execution_count": 8,
   "metadata": {},
   "outputs": [],
   "source": [
    "df1 = pd.DataFrame({'fruit': ['apple', 'banana', 'orange'] * 3,\n",
    "                    'weight': ['low', 'medium', 'high'] * 3,\n",
    "                    'price': np.random.randint(0, 100, 9)})\n",
    "\n",
    "df2 = pd.DataFrame({'frukt': ['apple', 'banana', 'melon'] * 2,\n",
    "                    'ves': ['low', 'high'] * 3,\n",
    "                    'price': np.random.randint(0, 100, 6)})"
   ]
  },
  {
   "cell_type": "code",
   "execution_count": 9,
   "metadata": {},
   "outputs": [
    {
     "data": {
      "text/html": [
       "<div>\n",
       "<style scoped>\n",
       "    .dataframe tbody tr th:only-of-type {\n",
       "        vertical-align: middle;\n",
       "    }\n",
       "\n",
       "    .dataframe tbody tr th {\n",
       "        vertical-align: top;\n",
       "    }\n",
       "\n",
       "    .dataframe thead th {\n",
       "        text-align: right;\n",
       "    }\n",
       "</style>\n",
       "<table border=\"1\" class=\"dataframe\">\n",
       "  <thead>\n",
       "    <tr style=\"text-align: right;\">\n",
       "      <th></th>\n",
       "      <th>fruit</th>\n",
       "      <th>weight</th>\n",
       "      <th>price_left</th>\n",
       "      <th>frukt</th>\n",
       "      <th>ves</th>\n",
       "      <th>price_right</th>\n",
       "    </tr>\n",
       "  </thead>\n",
       "  <tbody>\n",
       "    <tr>\n",
       "      <th>0</th>\n",
       "      <td>apple</td>\n",
       "      <td>low</td>\n",
       "      <td>85</td>\n",
       "      <td>apple</td>\n",
       "      <td>low</td>\n",
       "      <td>82</td>\n",
       "    </tr>\n",
       "    <tr>\n",
       "      <th>1</th>\n",
       "      <td>apple</td>\n",
       "      <td>low</td>\n",
       "      <td>3</td>\n",
       "      <td>apple</td>\n",
       "      <td>low</td>\n",
       "      <td>82</td>\n",
       "    </tr>\n",
       "    <tr>\n",
       "      <th>2</th>\n",
       "      <td>apple</td>\n",
       "      <td>low</td>\n",
       "      <td>45</td>\n",
       "      <td>apple</td>\n",
       "      <td>low</td>\n",
       "      <td>82</td>\n",
       "    </tr>\n",
       "  </tbody>\n",
       "</table>\n",
       "</div>"
      ],
      "text/plain": [
       "   fruit weight  price_left  frukt  ves  price_right\n",
       "0  apple    low          85  apple  low           82\n",
       "1  apple    low           3  apple  low           82\n",
       "2  apple    low          45  apple  low           82"
      ]
     },
     "execution_count": 9,
     "metadata": {},
     "output_type": "execute_result"
    }
   ],
   "source": [
    "# Решение\n",
    "pd.merge(df1, df2, how='inner', left_on=['fruit', 'weight'], right_on=['frukt', 'ves'], suffixes=['_left', '_right'])"
   ]
  },
  {
   "cell_type": "markdown",
   "metadata": {},
   "source": [
    "Задача 5\n",
    "Как узнать частоту уникальных значений во всём DataFrame?"
   ]
  },
  {
   "cell_type": "code",
   "execution_count": 10,
   "metadata": {},
   "outputs": [],
   "source": [
    "df = pd.DataFrame(np.random.randint(1, 10, 16).reshape(4, 4), columns=list('abcd'))"
   ]
  },
  {
   "cell_type": "code",
   "execution_count": 11,
   "metadata": {},
   "outputs": [
    {
     "data": {
      "text/plain": [
       "3    5\n",
       "8    2\n",
       "7    2\n",
       "2    2\n",
       "1    2\n",
       "6    1\n",
       "5    1\n",
       "4    1\n",
       "dtype: int64"
      ]
     },
     "execution_count": 11,
     "metadata": {},
     "output_type": "execute_result"
    }
   ],
   "source": [
    "# Решение\n",
    "pd.value_counts(df.values.ravel())"
   ]
  },
  {
   "cell_type": "markdown",
   "metadata": {},
   "source": [
    "Задача 6\n",
    "Как создать новый столбец, который содержит номера ближайших по евклидовому расстоянию столбцов?"
   ]
  },
  {
   "cell_type": "code",
   "execution_count": 12,
   "metadata": {},
   "outputs": [],
   "source": [
    "# Ввод\n",
    "df = pd.DataFrame(np.random.randint(1, 100, 16).reshape(4, 4), columns=list('efgh'), index=list('abcd'))"
   ]
  },
  {
   "cell_type": "code",
   "execution_count": 13,
   "metadata": {},
   "outputs": [],
   "source": [
    "# Инициализация выводов\n",
    "nearest_rows = []\n",
    "nearest_distance = []\n",
    "\n",
    "# Проход по строкам\n",
    "for i, row in df.iterrows():\n",
    "    curr = row\n",
    "    rest = df.drop(i)\n",
    "    dists = {}  # инициализируем словарь для евклидовых расстояния для текущей строки\n",
    "    # проходим по оставшимся строкам текущей строки\n",
    "    for j, contestant in rest.iterrows():\n",
    "        # вычисляем евклидово расстояние и обновляем dists\n",
    "        \n",
    "        dists.update({j: round(np.linalg.norm(curr.values - contestant.values))})\n",
    "    # приравниваем текущую строку к ближайшей и записываем значение расстояния=\n",
    "    nearest_rows.append(max(dists, key=dists.get))\n",
    "    nearest_distance.append(max(dists.values()))\n",
    "\n",
    "df['nearest_row'] = nearest_rows\n",
    "df['dist'] = nearest_distance"
   ]
  },
  {
   "cell_type": "markdown",
   "metadata": {},
   "source": [
    "# Задачи по NumPy"
   ]
  },
  {
   "cell_type": "markdown",
   "metadata": {},
   "source": [
    "Задача 7\n",
    "Как поменять местами две строки в двумерном массиве NumPy? Поменяйте местами строки 1 и 3 массива a."
   ]
  },
  {
   "cell_type": "code",
   "execution_count": 14,
   "metadata": {},
   "outputs": [],
   "source": [
    "a = np.arange(9).reshape(3,3)"
   ]
  },
  {
   "cell_type": "code",
   "execution_count": 15,
   "metadata": {},
   "outputs": [
    {
     "data": {
      "text/plain": [
       "array([[6, 7, 8],\n",
       "       [3, 4, 5],\n",
       "       [0, 1, 2]])"
      ]
     },
     "execution_count": 15,
     "metadata": {},
     "output_type": "execute_result"
    }
   ],
   "source": [
    "# Решение\n",
    "a[[2, 1, 0], :]"
   ]
  },
  {
   "cell_type": "markdown",
   "metadata": {},
   "source": [
    "Задача 8\n",
    "Как найти количество уникальных значений в массиве NumPy? Найдите уникальные значения и их количество в столбце species таблицы iris."
   ]
  },
  {
   "cell_type": "code",
   "execution_count": 16,
   "metadata": {},
   "outputs": [],
   "source": [
    "url = 'https://archive.ics.uci.edu/ml/machine-learning-databases/iris/iris.data'\n",
    "iris = np.genfromtxt(url, delimiter=',', dtype='object')"
   ]
  },
  {
   "cell_type": "code",
   "execution_count": 17,
   "metadata": {},
   "outputs": [
    {
     "data": {
      "text/plain": [
       "(array([b'Iris-setosa', b'Iris-versicolor', b'Iris-virginica'],\n",
       "       dtype='|S15'),\n",
       " array([50, 50, 50], dtype=int64))"
      ]
     },
     "execution_count": 17,
     "metadata": {},
     "output_type": "execute_result"
    }
   ],
   "source": [
    "# Решение\n",
    "# Извлекаем столбец species как массив\n",
    "species = np.array([row.tolist()[4] for row in iris])\n",
    "\n",
    "# Получаем уникальные значения и их количество\n",
    "np.unique(species, return_counts=True)"
   ]
  },
  {
   "cell_type": "markdown",
   "metadata": {},
   "source": [
    "Задача 9\n",
    "Как найти второе максимальное значение в массиве, который сгруппирован по другому массиву? Найдите значение второго самого длинного petallength вида setosa в таблице iris."
   ]
  },
  {
   "cell_type": "code",
   "execution_count": 18,
   "metadata": {},
   "outputs": [],
   "source": [
    "url = 'https://archive.ics.uci.edu/ml/machine-learning-databases/iris/iris.data'\n",
    "iris = np.genfromtxt(url, delimiter=',', dtype='object')"
   ]
  },
  {
   "cell_type": "code",
   "execution_count": 19,
   "metadata": {},
   "outputs": [
    {
     "data": {
      "text/plain": [
       "1.7"
      ]
     },
     "execution_count": 19,
     "metadata": {},
     "output_type": "execute_result"
    }
   ],
   "source": [
    "# Решение\n",
    "# Извлекаем столбцы вида и длины лепестков\n",
    "setosa_petal_len = iris[iris[:, 4] == b'Iris-setosa', [2]].astype('float')\n",
    "\n",
    "# Получаем второе значение с конца\n",
    "np.unique(np.sort(setosa_petal_len))[-2]"
   ]
  },
  {
   "cell_type": "markdown",
   "metadata": {},
   "source": [
    "Задача 10\n",
    "Как отранжировать элементы массива NumPy?\n",
    "Ожидаемый вывод:\n",
    "\n",
    "[2 3 6 4 8 9 5 1 7 0]"
   ]
  },
  {
   "cell_type": "code",
   "execution_count": 20,
   "metadata": {},
   "outputs": [
    {
     "name": "stdout",
     "output_type": "stream",
     "text": [
      "[19 76 36 55 85 15 40 42 85 37]\n"
     ]
    }
   ],
   "source": [
    "a = np.random.randint(100, size=10)\n",
    "print(a)\n",
    "# [9 15 64 28 89 93 29 8 73 0]"
   ]
  },
  {
   "cell_type": "code",
   "execution_count": 21,
   "metadata": {},
   "outputs": [
    {
     "name": "stdout",
     "output_type": "stream",
     "text": [
      "[1 7 2 6 8 0 4 5 9 3]\n"
     ]
    }
   ],
   "source": [
    "\n",
    "# Решение\n",
    "print(a.argsort().argsort())"
   ]
  },
  {
   "cell_type": "markdown",
   "metadata": {},
   "source": [
    "Задача 11\n",
    "Как найти результат деления минимального значения на максимальное в каждой строке двумерного массива?"
   ]
  },
  {
   "cell_type": "code",
   "execution_count": 22,
   "metadata": {},
   "outputs": [],
   "source": [
    "# Ввод\n",
    "np.random.seed(10)\n",
    "a = np.random.randint(1, 10, [3, 3])"
   ]
  },
  {
   "cell_type": "code",
   "execution_count": 23,
   "metadata": {},
   "outputs": [
    {
     "data": {
      "text/plain": [
       "array([0.2       , 0.11111111, 0.11111111])"
      ]
     },
     "execution_count": 23,
     "metadata": {},
     "output_type": "execute_result"
    }
   ],
   "source": [
    "# Решение\n",
    "np.apply_along_axis(lambda x: np.min(x) / np.max(x), arr=a, axis=1)"
   ]
  },
  {
   "cell_type": "markdown",
   "metadata": {},
   "source": [
    "Задача 12\n",
    "Как найти повторяющиеся значения в массиве NumPy? Найдите повторяющиеся значения (начиная со второго вхождения) в заданном массиве и отметьте их как True. Первое вхождение отмечайте как False."
   ]
  },
  {
   "cell_type": "code",
   "execution_count": 24,
   "metadata": {},
   "outputs": [],
   "source": [
    "# Ввод\n",
    "np.random.seed(10)\n",
    "a = np.random.randint(0, 7, 10)"
   ]
  },
  {
   "cell_type": "code",
   "execution_count": 25,
   "metadata": {},
   "outputs": [
    {
     "name": "stdout",
     "output_type": "stream",
     "text": [
      "[False False False False  True False  True  True  True  True]\n"
     ]
    }
   ],
   "source": [
    "# Решение\n",
    "\n",
    "# Создаём массив с True\n",
    "out = np.full(a.shape[0], True)\n",
    "\n",
    "# Находим индексы уникальных элементов\n",
    "pos = np.unique(a, return_index=True)[1]\n",
    "\n",
    "# Помечаем их как False\n",
    "out[pos] = False\n",
    "\n",
    "print(out)"
   ]
  },
  {
   "cell_type": "markdown",
   "metadata": {},
   "source": [
    "Задача 13\n",
    "Как удалить из массива NumPy строки, которые содержат nan?"
   ]
  },
  {
   "cell_type": "code",
   "execution_count": 26,
   "metadata": {},
   "outputs": [],
   "source": [
    "# Ввод\n",
    "url = 'https://archive.ics.uci.edu/ml/machine-learning-databases/iris/iris.data'\n",
    "iris = np.genfromtxt(url, delimiter=',', dtype='float', usecols=[0, 1, 2, 3])\n",
    "iris[np.random.randint(150, size=20), np.random.randint(4, size=20)] = np.nan"
   ]
  },
  {
   "cell_type": "code",
   "execution_count": 27,
   "metadata": {},
   "outputs": [
    {
     "data": {
      "text/plain": [
       "array([[4.9, 3. , 1.4, 0.2],\n",
       "       [4.7, 3.2, 1.3, 0.2],\n",
       "       [4.6, 3.1, 1.5, 0.2],\n",
       "       [5. , 3.6, 1.4, 0.2],\n",
       "       [5.4, 3.9, 1.7, 0.4]])"
      ]
     },
     "execution_count": 27,
     "metadata": {},
     "output_type": "execute_result"
    }
   ],
   "source": [
    "# Решение\n",
    "# Способ 1:\n",
    "nan_in_row = np.array([~np.any(np.isnan(row)) for row in iris])\n",
    "iris[nan_in_row][:5]\n",
    "\n",
    "# Способ 2:\n",
    "iris[np.sum(np.isnan(iris), axis = 1) == 0][:5]"
   ]
  }
 ],
 "metadata": {
  "kernelspec": {
   "display_name": "Python 3",
   "language": "python",
   "name": "python3"
  },
  "language_info": {
   "codemirror_mode": {
    "name": "ipython",
    "version": 3
   },
   "file_extension": ".py",
   "mimetype": "text/x-python",
   "name": "python",
   "nbconvert_exporter": "python",
   "pygments_lexer": "ipython3",
   "version": "3.8.5"
  }
 },
 "nbformat": 4,
 "nbformat_minor": 4
}
